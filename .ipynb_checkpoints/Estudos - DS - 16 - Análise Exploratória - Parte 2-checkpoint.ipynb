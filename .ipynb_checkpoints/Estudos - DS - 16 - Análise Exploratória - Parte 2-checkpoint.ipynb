{
 "cells": [
  {
   "cell_type": "markdown",
   "id": "2535f9a4",
   "metadata": {},
   "source": [
    "# Análise Exploratória Avançada"
   ]
  },
  {
   "cell_type": "markdown",
   "id": "1cb7bd81",
   "metadata": {},
   "source": [
    "### Analisando um Dataset do Kaggle - Dados do QuintoAndar"
   ]
  },
  {
   "cell_type": "markdown",
   "id": "140e10e1",
   "metadata": {},
   "source": [
    "Com os dados de imóveis na cidade de São Paulo, a ideia é verificar quais as localidades oferecerem os melhores imóveis, checar quais características influenciam nos preços.\n",
    "\n",
    "Link para o dataset: https://www.kaggle.com/datasets/renatosn/sao-paulo-housing-prices\n",
    "\n",
    "Definição das colunas:\n",
    "\n",
    "- Endereço: Endereço do imóvel\n",
    "- Bairro: Bairro onde fica o imóvel\n",
    "- Área: Área do imóvel em metros quadrados\n",
    "- Quartos: Número de quartos do imóvel\n",
    "- Garagem: Número de vagas de estacionamento disponíveis no imóvel\n",
    "- Aluguel: O aluguel mensal do imóvel\n",
    "- Tipo: Tipo do imóvel (apartamento, casa, etc.)\n",
    "- Total: Custo total do imóvel, incluindo aluguel, impostos e taxas"
   ]
  },
  {
   "cell_type": "code",
   "execution_count": 4,
   "id": "2b9f02f2",
   "metadata": {},
   "outputs": [
    {
     "data": {
      "text/html": [
       "<div>\n",
       "<style scoped>\n",
       "    .dataframe tbody tr th:only-of-type {\n",
       "        vertical-align: middle;\n",
       "    }\n",
       "\n",
       "    .dataframe tbody tr th {\n",
       "        vertical-align: top;\n",
       "    }\n",
       "\n",
       "    .dataframe thead th {\n",
       "        text-align: right;\n",
       "    }\n",
       "</style>\n",
       "<table border=\"1\" class=\"dataframe\">\n",
       "  <thead>\n",
       "    <tr style=\"text-align: right;\">\n",
       "      <th></th>\n",
       "      <th>address</th>\n",
       "      <th>district</th>\n",
       "      <th>area</th>\n",
       "      <th>bedrooms</th>\n",
       "      <th>garage</th>\n",
       "      <th>type</th>\n",
       "      <th>rent</th>\n",
       "      <th>total</th>\n",
       "    </tr>\n",
       "  </thead>\n",
       "  <tbody>\n",
       "    <tr>\n",
       "      <th>0</th>\n",
       "      <td>Rua Herval</td>\n",
       "      <td>Belenzinho</td>\n",
       "      <td>21</td>\n",
       "      <td>1</td>\n",
       "      <td>0</td>\n",
       "      <td>Studio e kitnet</td>\n",
       "      <td>2400</td>\n",
       "      <td>2939</td>\n",
       "    </tr>\n",
       "    <tr>\n",
       "      <th>1</th>\n",
       "      <td>Avenida São Miguel</td>\n",
       "      <td>Vila Marieta</td>\n",
       "      <td>15</td>\n",
       "      <td>1</td>\n",
       "      <td>1</td>\n",
       "      <td>Studio e kitnet</td>\n",
       "      <td>1030</td>\n",
       "      <td>1345</td>\n",
       "    </tr>\n",
       "    <tr>\n",
       "      <th>2</th>\n",
       "      <td>Rua Oscar Freire</td>\n",
       "      <td>Pinheiros</td>\n",
       "      <td>18</td>\n",
       "      <td>1</td>\n",
       "      <td>0</td>\n",
       "      <td>Apartamento</td>\n",
       "      <td>4000</td>\n",
       "      <td>4661</td>\n",
       "    </tr>\n",
       "    <tr>\n",
       "      <th>3</th>\n",
       "      <td>Rua Júlio Sayago</td>\n",
       "      <td>Vila Ré</td>\n",
       "      <td>56</td>\n",
       "      <td>2</td>\n",
       "      <td>2</td>\n",
       "      <td>Casa em condomínio</td>\n",
       "      <td>1750</td>\n",
       "      <td>1954</td>\n",
       "    </tr>\n",
       "    <tr>\n",
       "      <th>4</th>\n",
       "      <td>Rua Barata Ribeiro</td>\n",
       "      <td>Bela Vista</td>\n",
       "      <td>19</td>\n",
       "      <td>1</td>\n",
       "      <td>0</td>\n",
       "      <td>Studio e kitnet</td>\n",
       "      <td>4000</td>\n",
       "      <td>4654</td>\n",
       "    </tr>\n",
       "  </tbody>\n",
       "</table>\n",
       "</div>"
      ],
      "text/plain": [
       "              address      district  area  bedrooms  garage  \\\n",
       "0          Rua Herval    Belenzinho    21         1       0   \n",
       "1  Avenida São Miguel  Vila Marieta    15         1       1   \n",
       "2    Rua Oscar Freire     Pinheiros    18         1       0   \n",
       "3    Rua Júlio Sayago       Vila Ré    56         2       2   \n",
       "4  Rua Barata Ribeiro    Bela Vista    19         1       0   \n",
       "\n",
       "                 type  rent  total  \n",
       "0     Studio e kitnet  2400   2939  \n",
       "1     Studio e kitnet  1030   1345  \n",
       "2         Apartamento  4000   4661  \n",
       "3  Casa em condomínio  1750   1954  \n",
       "4     Studio e kitnet  4000   4654  "
      ]
     },
     "execution_count": 4,
     "metadata": {},
     "output_type": "execute_result"
    },
    {
     "data": {
      "application/javascript": [
       "\n",
       "            setTimeout(function() {\n",
       "                var nbb_cell_id = 4;\n",
       "                var nbb_unformatted_code = \"## importando as bibliotecas\\n\\nimport pandas as pd\\nimport numpy as np\\n\\nimport matplotlib.pyplot as plt\\nimport seaborn as sns\\nimport plotly.express as px\\nimport plotly.graph_objects as go\\n\\nimport warnings\\n\\nwarnings.filterwarnings('ignore')\\n\\n## configurar o estulo do gr\\u00e1fico do ggplot\\n\\nplt.style.use('ggplot')\\n\\n## configurar para exibir at\\u00e9 15 linhas de um dataframe\\n\\npd.set_option('display.max_rows', 15)\\n\\n## configurar para exibir todas as colunas de um dataframe\\n\\npd.set_option('display.max_columns', None)\\n\\n## configurar quebras e espa\\u00e7amentos autom\\u00e1sticos com nb_black\\n\\n%load_ext nb_black\\n\\n## carregando o dataset\\n\\ndf = pd.read_csv('data.csv')\\n\\n## visualizando\\n\\ndf.head()\";\n",
       "                var nbb_formatted_code = \"## importando as bibliotecas\\n\\nimport pandas as pd\\nimport numpy as np\\n\\nimport matplotlib.pyplot as plt\\nimport seaborn as sns\\nimport plotly.express as px\\nimport plotly.graph_objects as go\\n\\nimport warnings\\n\\nwarnings.filterwarnings(\\\"ignore\\\")\\n\\n## configurar o estulo do gr\\u00e1fico do ggplot\\n\\nplt.style.use(\\\"ggplot\\\")\\n\\n## configurar para exibir at\\u00e9 15 linhas de um dataframe\\n\\npd.set_option(\\\"display.max_rows\\\", 15)\\n\\n## configurar para exibir todas as colunas de um dataframe\\n\\npd.set_option(\\\"display.max_columns\\\", None)\\n\\n## configurar quebras e espa\\u00e7amentos autom\\u00e1sticos com nb_black\\n\\n%load_ext nb_black\\n\\n## carregando o dataset\\n\\ndf = pd.read_csv(\\\"data.csv\\\")\\n\\n## visualizando\\n\\ndf.head()\";\n",
       "                var nbb_cells = Jupyter.notebook.get_cells();\n",
       "                for (var i = 0; i < nbb_cells.length; ++i) {\n",
       "                    if (nbb_cells[i].input_prompt_number == nbb_cell_id) {\n",
       "                        if (nbb_cells[i].get_text() == nbb_unformatted_code) {\n",
       "                             nbb_cells[i].set_text(nbb_formatted_code);\n",
       "                        }\n",
       "                        break;\n",
       "                    }\n",
       "                }\n",
       "            }, 500);\n",
       "            "
      ],
      "text/plain": [
       "<IPython.core.display.Javascript object>"
      ]
     },
     "metadata": {},
     "output_type": "display_data"
    }
   ],
   "source": [
    "## importando as bibliotecas\n",
    "\n",
    "import pandas as pd\n",
    "import numpy as np\n",
    "\n",
    "import matplotlib.pyplot as plt\n",
    "import seaborn as sns\n",
    "import plotly.express as px\n",
    "import plotly.graph_objects as go\n",
    "\n",
    "import warnings\n",
    "\n",
    "warnings.filterwarnings(\"ignore\")\n",
    "\n",
    "## configurar o estulo do gráfico do ggplot\n",
    "\n",
    "plt.style.use(\"ggplot\")\n",
    "\n",
    "## configurar para exibir até 15 linhas de um dataframe\n",
    "\n",
    "pd.set_option(\"display.max_rows\", 15)\n",
    "\n",
    "## configurar para exibir todas as colunas de um dataframe\n",
    "\n",
    "pd.set_option(\"display.max_columns\", None)\n",
    "\n",
    "## configurar quebras e espaçamentos automásticos com nb_black\n",
    "\n",
    "%load_ext nb_black\n",
    "\n",
    "## carregando o dataset\n",
    "\n",
    "df = pd.read_csv(\"data.csv\")\n",
    "\n",
    "## visualizando\n",
    "\n",
    "df.head()"
   ]
  },
  {
   "cell_type": "code",
   "execution_count": 5,
   "id": "8517a7a7",
   "metadata": {},
   "outputs": [
    {
     "name": "stdout",
     "output_type": "stream",
     "text": [
      "O dataframe possui 11657 linhas e 8 colunas.\n"
     ]
    },
    {
     "data": {
      "application/javascript": [
       "\n",
       "            setTimeout(function() {\n",
       "                var nbb_cell_id = 5;\n",
       "                var nbb_unformatted_code = \"## checando formato\\n\\nprint(f'O dataframe possui {df.shape[0]} linhas e {df.shape[1]} colunas.')\";\n",
       "                var nbb_formatted_code = \"## checando formato\\n\\nprint(f\\\"O dataframe possui {df.shape[0]} linhas e {df.shape[1]} colunas.\\\")\";\n",
       "                var nbb_cells = Jupyter.notebook.get_cells();\n",
       "                for (var i = 0; i < nbb_cells.length; ++i) {\n",
       "                    if (nbb_cells[i].input_prompt_number == nbb_cell_id) {\n",
       "                        if (nbb_cells[i].get_text() == nbb_unformatted_code) {\n",
       "                             nbb_cells[i].set_text(nbb_formatted_code);\n",
       "                        }\n",
       "                        break;\n",
       "                    }\n",
       "                }\n",
       "            }, 500);\n",
       "            "
      ],
      "text/plain": [
       "<IPython.core.display.Javascript object>"
      ]
     },
     "metadata": {},
     "output_type": "display_data"
    }
   ],
   "source": [
    "## checando formato do df\n",
    "\n",
    "print(f\"O dataframe possui {df.shape[0]} linhas e {df.shape[1]} colunas.\")"
   ]
  },
  {
   "cell_type": "code",
   "execution_count": 6,
   "id": "baf01379",
   "metadata": {},
   "outputs": [
    {
     "name": "stdout",
     "output_type": "stream",
     "text": [
      "<class 'pandas.core.frame.DataFrame'>\n",
      "RangeIndex: 11657 entries, 0 to 11656\n",
      "Data columns (total 8 columns):\n",
      " #   Column    Non-Null Count  Dtype \n",
      "---  ------    --------------  ----- \n",
      " 0   address   11657 non-null  object\n",
      " 1   district  11657 non-null  object\n",
      " 2   area      11657 non-null  int64 \n",
      " 3   bedrooms  11657 non-null  int64 \n",
      " 4   garage    11657 non-null  int64 \n",
      " 5   type      11657 non-null  object\n",
      " 6   rent      11657 non-null  int64 \n",
      " 7   total     11657 non-null  int64 \n",
      "dtypes: int64(5), object(3)\n",
      "memory usage: 728.7+ KB\n"
     ]
    },
    {
     "data": {
      "application/javascript": [
       "\n",
       "            setTimeout(function() {\n",
       "                var nbb_cell_id = 6;\n",
       "                var nbb_unformatted_code = \"df.info()\";\n",
       "                var nbb_formatted_code = \"df.info()\";\n",
       "                var nbb_cells = Jupyter.notebook.get_cells();\n",
       "                for (var i = 0; i < nbb_cells.length; ++i) {\n",
       "                    if (nbb_cells[i].input_prompt_number == nbb_cell_id) {\n",
       "                        if (nbb_cells[i].get_text() == nbb_unformatted_code) {\n",
       "                             nbb_cells[i].set_text(nbb_formatted_code);\n",
       "                        }\n",
       "                        break;\n",
       "                    }\n",
       "                }\n",
       "            }, 500);\n",
       "            "
      ],
      "text/plain": [
       "<IPython.core.display.Javascript object>"
      ]
     },
     "metadata": {},
     "output_type": "display_data"
    }
   ],
   "source": [
    "df.info()"
   ]
  },
  {
   "cell_type": "code",
   "execution_count": 10,
   "id": "b05e630b",
   "metadata": {},
   "outputs": [
    {
     "name": "stdout",
     "output_type": "stream",
     "text": [
      "Temos 5 colunas numéricas e 3 colunas não numéricas\n"
     ]
    },
    {
     "data": {
      "application/javascript": [
       "\n",
       "            setTimeout(function() {\n",
       "                var nbb_cell_id = 10;\n",
       "                var nbb_unformatted_code = \"numerics = [\\\"int16\\\", \\\"int32\\\", \\\"int64\\\", \\\"float16\\\", \\\"float32\\\", \\\"float64\\\"]\\n\\nnumericas = df.select_dtypes(include=numerics)\\n\\nn_numericas = df.select_dtypes(exclude=numerics)\\n\\n\\nprint(\\n    f\\\"Temos {numericas.shape[1]} colunas num\\u00e9ricas e {n_numericas.shape[1]} colunas n\\u00e3o num\\u00e9ricas\\\"\\n)\";\n",
       "                var nbb_formatted_code = \"numerics = [\\\"int16\\\", \\\"int32\\\", \\\"int64\\\", \\\"float16\\\", \\\"float32\\\", \\\"float64\\\"]\\n\\nnumericas = df.select_dtypes(include=numerics)\\n\\nn_numericas = df.select_dtypes(exclude=numerics)\\n\\n\\nprint(\\n    f\\\"Temos {numericas.shape[1]} colunas num\\u00e9ricas e {n_numericas.shape[1]} colunas n\\u00e3o num\\u00e9ricas\\\"\\n)\";\n",
       "                var nbb_cells = Jupyter.notebook.get_cells();\n",
       "                for (var i = 0; i < nbb_cells.length; ++i) {\n",
       "                    if (nbb_cells[i].input_prompt_number == nbb_cell_id) {\n",
       "                        if (nbb_cells[i].get_text() == nbb_unformatted_code) {\n",
       "                             nbb_cells[i].set_text(nbb_formatted_code);\n",
       "                        }\n",
       "                        break;\n",
       "                    }\n",
       "                }\n",
       "            }, 500);\n",
       "            "
      ],
      "text/plain": [
       "<IPython.core.display.Javascript object>"
      ]
     },
     "metadata": {},
     "output_type": "display_data"
    }
   ],
   "source": [
    "numerics = [\"int16\", \"int32\", \"int64\", \"float16\", \"float32\", \"float64\"]\n",
    "\n",
    "numericas = df.select_dtypes(include=numerics)\n",
    "\n",
    "n_numericas = df.select_dtypes(exclude=numerics)\n",
    "\n",
    "\n",
    "print(\n",
    "    f\"Temos {numericas.shape[1]} colunas numéricas e {n_numericas.shape[1]} colunas não numéricas\"\n",
    ")"
   ]
  },
  {
   "cell_type": "markdown",
   "id": "cade3eb1",
   "metadata": {},
   "source": [
    "## Entendendo os Dados"
   ]
  },
  {
   "cell_type": "markdown",
   "id": "467cbb10",
   "metadata": {},
   "source": [
    "### Iniciando com Análise Univariada dos Preços"
   ]
  },
  {
   "cell_type": "code",
   "execution_count": 11,
   "id": "6bd51692",
   "metadata": {},
   "outputs": [
    {
     "data": {
      "image/png": "[encoded data removed]",
      "text/plain": [
       "<Figure size 1000x500 with 2 Axes>"
      ]
     },
     "metadata": {},
     "output_type": "display_data"
    },
    {
     "data": {
      "application/javascript": [
       "\n",
       "            setTimeout(function() {\n",
       "                var nbb_cell_id = 11;\n",
       "                var nbb_unformatted_code = \"fig, axs = plt.subplots(1,2, figsize=(10,5)) # cria uma figura com 2 subplots\\n\\n## cria um boxplot com a vari\\u00e1vel rent no primeiro subplot\\naxs[0].boxplot(df['rent'])\\naxs[0].set_title('Boxplot da Vari\\u00e1vel Rent')\\n\\n## cria um boxplot para a vari\\u00e1vel total no segundo subplot\\naxs[1].boxplot(df['total'])\\naxs[1].set_title('Boxplot da Vari\\u00e1vel Total')\\n\\n## mostrar o gr\\u00e1fico\\nplt.show()\";\n",
       "                var nbb_formatted_code = \"fig, axs = plt.subplots(1, 2, figsize=(10, 5))  # cria uma figura com 2 subplots\\n\\n## cria um boxplot com a vari\\u00e1vel rent no primeiro subplot\\naxs[0].boxplot(df[\\\"rent\\\"])\\naxs[0].set_title(\\\"Boxplot da Vari\\u00e1vel Rent\\\")\\n\\n## cria um boxplot para a vari\\u00e1vel total no segundo subplot\\naxs[1].boxplot(df[\\\"total\\\"])\\naxs[1].set_title(\\\"Boxplot da Vari\\u00e1vel Total\\\")\\n\\n## mostrar o gr\\u00e1fico\\nplt.show()\";\n",
       "                var nbb_cells = Jupyter.notebook.get_cells();\n",
       "                for (var i = 0; i < nbb_cells.length; ++i) {\n",
       "                    if (nbb_cells[i].input_prompt_number == nbb_cell_id) {\n",
       "                        if (nbb_cells[i].get_text() == nbb_unformatted_code) {\n",
       "                             nbb_cells[i].set_text(nbb_formatted_code);\n",
       "                        }\n",
       "                        break;\n",
       "                    }\n",
       "                }\n",
       "            }, 500);\n",
       "            "
      ],
      "text/plain": [
       "<IPython.core.display.Javascript object>"
      ]
     },
     "metadata": {},
     "output_type": "display_data"
    }
   ],
   "source": [
    "fig, axs = plt.subplots(1, 2, figsize=(10, 5))  # cria uma figura com 2 subplots\n",
    "\n",
    "## cria um boxplot com a variável rent no primeiro subplot\n",
    "axs[0].boxplot(df[\"rent\"])\n",
    "axs[0].set_title(\"Boxplot da Variável Rent\")\n",
    "\n",
    "## cria um boxplot para a variável total no segundo subplot\n",
    "axs[1].boxplot(df[\"total\"])\n",
    "axs[1].set_title(\"Boxplot da Variável Total\")\n",
    "\n",
    "## mostrar o gráfico\n",
    "plt.show()"
   ]
  },
  {
   "cell_type": "markdown",
   "id": "7055b42d",
   "metadata": {},
   "source": [
    "### Detalhando o Gráfico"
   ]
  },
  {
   "cell_type": "code",
   "execution_count": 14,
   "id": "678e7824",
   "metadata": {},
   "outputs": [
    {
     "data": {
      "image/png": "[encoded data removed]",
      "text/plain": [
       "<Figure size 1000x500 with 2 Axes>"
      ]
     },
     "metadata": {},
     "output_type": "display_data"
    },
    {
     "data": {
      "application/javascript": [
       "\n",
       "            setTimeout(function() {\n",
       "                var nbb_cell_id = 14;\n",
       "                var nbb_unformatted_code = \"fig, axs = plt.subplots(1, 2, figsize=(10, 5))  # cria uma figura com 2 subplots\\n\\n## cria um boxplot com a vari\\u00e1vel rent no primeiro subplot\\nbp1 = axs[0].boxplot(df[\\\"rent\\\"], patch_artist=True)\\naxs[0].set_title(\\\"Boxplot da Vari\\u00e1vel Rent\\\")\\n\\n## cor do boxplot\\nbp1[\\\"boxes\\\"][0].set_facecolor(\\\"lightblue\\\")\\n\\n## adicionando legenda do valor m\\u00e1ximo\\nmax_rent = np.max(df[\\\"rent\\\"])\\naxs[0].annotate(\\n    f\\\"Valor M\\u00e1ximo = {max_rent}\\\",\\n    xy=(1, max_rent),\\n    xytext=(1.05, max_rent),\\n    bbox=dict(facecolor=\\\"lightblue\\\", edgecolor=\\\"blue\\\"),\\n    fontsize=5,\\n)  # modifica a fonte para um tamanho menor\\n\\n## cria um boxplot para a vari\\u00e1vel total no segundo subplot\\nbp2 = axs[1].boxplot(df[\\\"total\\\"], patch_artist=True)\\naxs[1].set_title(\\\"Boxplot da Vari\\u00e1vel Total\\\")\\n\\n## cor do boxplot\\nbp2[\\\"boxes\\\"][0].set_facecolor(\\\"lightgreen\\\")\\n\\n## adicionando legenda do valor m\\u00e1ximo\\nmax_total = np.max(df[\\\"total\\\"])\\naxs[1].annotate(\\n    f\\\"Valor M\\u00e1ximo = {max_total}\\\",\\n    xy=(1, max_total),\\n    xytext=(1.05, max_total),\\n    bbox=dict(facecolor=\\\"lightgreen\\\", edgecolor=\\\"green\\\"),\\n    fontsize=5,\\n)  # modifica a fonte para um tamanho menor\\n\\n## mostrar o gr\\u00e1fico\\nplt.show()\";\n",
       "                var nbb_formatted_code = \"fig, axs = plt.subplots(1, 2, figsize=(10, 5))  # cria uma figura com 2 subplots\\n\\n## cria um boxplot com a vari\\u00e1vel rent no primeiro subplot\\nbp1 = axs[0].boxplot(df[\\\"rent\\\"], patch_artist=True)\\naxs[0].set_title(\\\"Boxplot da Vari\\u00e1vel Rent\\\")\\n\\n## cor do boxplot\\nbp1[\\\"boxes\\\"][0].set_facecolor(\\\"lightblue\\\")\\n\\n## adicionando legenda do valor m\\u00e1ximo\\nmax_rent = np.max(df[\\\"rent\\\"])\\naxs[0].annotate(\\n    f\\\"Valor M\\u00e1ximo = {max_rent}\\\",\\n    xy=(1, max_rent),\\n    xytext=(1.05, max_rent),\\n    bbox=dict(facecolor=\\\"lightblue\\\", edgecolor=\\\"blue\\\"),\\n    fontsize=5,\\n)  # modifica a fonte para um tamanho menor\\n\\n## cria um boxplot para a vari\\u00e1vel total no segundo subplot\\nbp2 = axs[1].boxplot(df[\\\"total\\\"], patch_artist=True)\\naxs[1].set_title(\\\"Boxplot da Vari\\u00e1vel Total\\\")\\n\\n## cor do boxplot\\nbp2[\\\"boxes\\\"][0].set_facecolor(\\\"lightgreen\\\")\\n\\n## adicionando legenda do valor m\\u00e1ximo\\nmax_total = np.max(df[\\\"total\\\"])\\naxs[1].annotate(\\n    f\\\"Valor M\\u00e1ximo = {max_total}\\\",\\n    xy=(1, max_total),\\n    xytext=(1.05, max_total),\\n    bbox=dict(facecolor=\\\"lightgreen\\\", edgecolor=\\\"green\\\"),\\n    fontsize=5,\\n)  # modifica a fonte para um tamanho menor\\n\\n## mostrar o gr\\u00e1fico\\nplt.show()\";\n",
       "                var nbb_cells = Jupyter.notebook.get_cells();\n",
       "                for (var i = 0; i < nbb_cells.length; ++i) {\n",
       "                    if (nbb_cells[i].input_prompt_number == nbb_cell_id) {\n",
       "                        if (nbb_cells[i].get_text() == nbb_unformatted_code) {\n",
       "                             nbb_cells[i].set_text(nbb_formatted_code);\n",
       "                        }\n",
       "                        break;\n",
       "                    }\n",
       "                }\n",
       "            }, 500);\n",
       "            "
      ],
      "text/plain": [
       "<IPython.core.display.Javascript object>"
      ]
     },
     "metadata": {},
     "output_type": "display_data"
    }
   ],
   "source": [
    "fig, axs = plt.subplots(1, 2, figsize=(10, 5))  # cria uma figura com 2 subplots\n",
    "\n",
    "## cria um boxplot com a variável rent no primeiro subplot\n",
    "bp1 = axs[0].boxplot(df[\"rent\"], patch_artist=True)\n",
    "axs[0].set_title(\"Boxplot da Variável Rent\")\n",
    "\n",
    "## cor do boxplot\n",
    "bp1[\"boxes\"][0].set_facecolor(\"lightblue\")\n",
    "\n",
    "## adicionando legenda do valor máximo\n",
    "max_rent = np.max(df[\"rent\"])\n",
    "axs[0].annotate(\n",
    "    f\"Valor Máximo = {max_rent}\",\n",
    "    xy=(1, max_rent),\n",
    "    xytext=(1.05, max_rent),\n",
    "    bbox=dict(facecolor=\"lightblue\", edgecolor=\"blue\"),\n",
    "    fontsize=5,\n",
    ")  # modifica a fonte para um tamanho menor\n",
    "\n",
    "## cria um boxplot para a variável total no segundo subplot\n",
    "bp2 = axs[1].boxplot(df[\"total\"], patch_artist=True)\n",
    "axs[1].set_title(\"Boxplot da Variável Total\")\n",
    "\n",
    "## cor do boxplot\n",
    "bp2[\"boxes\"][0].set_facecolor(\"lightgreen\")\n",
    "\n",
    "## adicionando legenda do valor máximo\n",
    "max_total = np.max(df[\"total\"])\n",
    "axs[1].annotate(\n",
    "    f\"Valor Máximo = {max_total}\",\n",
    "    xy=(1, max_total),\n",
    "    xytext=(1.05, max_total),\n",
    "    bbox=dict(facecolor=\"lightgreen\", edgecolor=\"green\"),\n",
    "    fontsize=5,\n",
    ")  # modifica a fonte para um tamanho menor\n",
    "\n",
    "## mostrar o gráfico\n",
    "plt.show()"
   ]
  },
  {
   "cell_type": "markdown",
   "id": "a8c7a982",
   "metadata": {},
   "source": [
    "Verificamos a presença de outliers, embora a mediana esteja abaixo de 5000, o valor máximo de ambos os gráficos chega próximo dos 30000."
   ]
  },
  {
   "cell_type": "markdown",
   "id": "059fcfc9",
   "metadata": {},
   "source": [
    "### Checando a Distribuição de Mediana por meio de um Histograma"
   ]
  },
  {
   "cell_type": "code",
   "execution_count": 16,
   "id": "b2c2ef74",
   "metadata": {},
   "outputs": [
    {
     "data": {
      "image/png": "[encoded data removed]",
      "text/plain": [
       "<Figure size 640x480 with 1 Axes>"
      ]
     },
     "metadata": {},
     "output_type": "display_data"
    },
    {
     "data": {
      "application/javascript": [
       "\n",
       "            setTimeout(function() {\n",
       "                var nbb_cell_id = 16;\n",
       "                var nbb_unformatted_code = \"## calculando a mediana de rent\\n\\nmediana_rent = df.rent.median()\\n\\n## formatando a mediana para o formato 'R$ x,xx'\\n\\nmediana_rent_format = (\\n    \\\"R$ {:,.2f}\\\".format(mediana_rent)\\n    .replace(\\\",\\\", \\\"v\\\")\\n    .replace(\\\".\\\", \\\",\\\")\\n    .replace(\\\"v\\\", \\\".\\\")\\n)\\n\\n_ = sns.histplot(df.rent, color=\\\"blue\\\")\\n_ = plt.axvline(mediana_rent, color=\\\"lightblue\\\", linestyle=\\\"dashed\\\", linewidth=2)\\n_ = plt.title(\\\"Histograma do Aluguel\\\")\\n_ = plt.xlabel(\\\"Aluguel\\\")\\n_ = plt.ylabel(\\\"Contagem\\\")\\n_ = plt.text(\\n    x=df.rent.median(), y=840, s=f\\\"Mediana = {mediana_rent_format}\\\", fontsize=8\\n)\\n_ = plt.show()\";\n",
       "                var nbb_formatted_code = \"## calculando a mediana de rent\\n\\nmediana_rent = df.rent.median()\\n\\n## formatando a mediana para o formato 'R$ x,xx'\\n\\nmediana_rent_format = (\\n    \\\"R$ {:,.2f}\\\".format(mediana_rent)\\n    .replace(\\\",\\\", \\\"v\\\")\\n    .replace(\\\".\\\", \\\",\\\")\\n    .replace(\\\"v\\\", \\\".\\\")\\n)\\n\\n_ = sns.histplot(df.rent, color=\\\"blue\\\")\\n_ = plt.axvline(mediana_rent, color=\\\"lightblue\\\", linestyle=\\\"dashed\\\", linewidth=2)\\n_ = plt.title(\\\"Histograma do Aluguel\\\")\\n_ = plt.xlabel(\\\"Aluguel\\\")\\n_ = plt.ylabel(\\\"Contagem\\\")\\n_ = plt.text(\\n    x=df.rent.median(), y=840, s=f\\\"Mediana = {mediana_rent_format}\\\", fontsize=8\\n)\\n_ = plt.show()\";\n",
       "                var nbb_cells = Jupyter.notebook.get_cells();\n",
       "                for (var i = 0; i < nbb_cells.length; ++i) {\n",
       "                    if (nbb_cells[i].input_prompt_number == nbb_cell_id) {\n",
       "                        if (nbb_cells[i].get_text() == nbb_unformatted_code) {\n",
       "                             nbb_cells[i].set_text(nbb_formatted_code);\n",
       "                        }\n",
       "                        break;\n",
       "                    }\n",
       "                }\n",
       "            }, 500);\n",
       "            "
      ],
      "text/plain": [
       "<IPython.core.display.Javascript object>"
      ]
     },
     "metadata": {},
     "output_type": "display_data"
    }
   ],
   "source": [
    "## calculando a mediana de rent\n",
    "\n",
    "mediana_rent = df.rent.median()\n",
    "\n",
    "## formatando a mediana para o formato 'R$ x,xx'\n",
    "\n",
    "mediana_rent_format = (\n",
    "    \"R$ {:,.2f}\".format(mediana_rent)\n",
    "    .replace(\",\", \"v\")\n",
    "    .replace(\".\", \",\")\n",
    "    .replace(\"v\", \".\")\n",
    ")\n",
    "\n",
    "_ = sns.histplot(df.rent, color=\"blue\")\n",
    "_ = plt.axvline(mediana_rent, color=\"lightblue\", linestyle=\"dashed\", linewidth=2)\n",
    "_ = plt.title(\"Histograma do Aluguel\")\n",
    "_ = plt.xlabel(\"Aluguel\")\n",
    "_ = plt.ylabel(\"Contagem\")\n",
    "_ = plt.text(\n",
    "    x=df.rent.median(), y=840, s=f\"Mediana = {mediana_rent_format}\", fontsize=8\n",
    ")\n",
    "_ = plt.show()"
   ]
  },
  {
   "cell_type": "code",
   "execution_count": null,
   "id": "d38c9ef8",
   "metadata": {},
   "outputs": [],
   "source": []
  },
  {
   "cell_type": "code",
   "execution_count": null,
   "id": "70d51afd",
   "metadata": {},
   "outputs": [],
   "source": []
  },
  {
   "cell_type": "code",
   "execution_count": null,
   "id": "b70d04b2",
   "metadata": {},
   "outputs": [],
   "source": []
  }
 ],
 "metadata": {
  "kernelspec": {
   "display_name": "Python 3 (ipykernel)",
   "language": "python",
   "name": "python3"
  },
  "language_info": {
   "codemirror_mode": {
    "name": "ipython",
    "version": 3
   },
   "file_extension": ".py",
   "mimetype": "text/x-python",
   "name": "python",
   "nbconvert_exporter": "python",
   "pygments_lexer": "ipython3",
   "version": "3.8.16"
  }
 },
 "nbformat": 4,
 "nbformat_minor": 5
}

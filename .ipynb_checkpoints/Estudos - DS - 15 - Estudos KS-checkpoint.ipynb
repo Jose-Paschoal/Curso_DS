{
 "cells": [
  {
   "cell_type": "markdown",
   "id": "a040a97d",
   "metadata": {},
   "source": [
    "# Teste de Kolmogorov-Smirnov"
   ]
  },
  {
   "cell_type": "code",
   "execution_count": 1,
   "id": "795ce728",
   "metadata": {},
   "outputs": [
    {
     "name": "stderr",
     "output_type": "stream",
     "text": [
      "C:\\Users\\pasch\\anaconda3\\lib\\site-packages\\numpy\\_distributor_init.py:30: UserWarning: loaded more than 1 DLL from .libs:\n",
      "C:\\Users\\pasch\\anaconda3\\lib\\site-packages\\numpy\\.libs\\libopenblas.FB5AE2TYXYH2IJRDKGDGQ3XBKLKTF43H.gfortran-win_amd64.dll\n",
      "C:\\Users\\pasch\\anaconda3\\lib\\site-packages\\numpy\\.libs\\libopenblas64__v0.3.21-gcc_10_3_0.dll\n",
      "  warnings.warn(\"loaded more than 1 DLL from .libs:\"\n"
     ]
    }
   ],
   "source": [
    "import sed\n",
    "import pandas as pd\n",
    "import numpy as np\n",
    "import scipy.stats as stats"
   ]
  },
  {
   "cell_type": "code",
   "execution_count": 2,
   "id": "a33a641e",
   "metadata": {},
   "outputs": [],
   "source": [
    "### definindo as notas hoje e quando o modelo foi treinado\n",
    "\n",
    "hoje = np.array([85,90,78,92,88,79,83,95,91,87])\n",
    "\n",
    "original = np.array([80,86,75,92,88,82,81,94,89,86])"
   ]
  },
  {
   "cell_type": "code",
   "execution_count": 3,
   "id": "77cb04f4",
   "metadata": {},
   "outputs": [],
   "source": [
    "## executando o teste de KS - Kolmogorov-Smirnov\n",
    "ks, p_valor = stats.ks_2samp(hoje, original)"
   ]
  },
  {
   "cell_type": "code",
   "execution_count": 4,
   "id": "7a16ae4b",
   "metadata": {},
   "outputs": [
    {
     "data": {
      "text/plain": [
       "0.2"
      ]
     },
     "execution_count": 4,
     "metadata": {},
     "output_type": "execute_result"
    }
   ],
   "source": [
    "ks"
   ]
  },
  {
   "cell_type": "code",
   "execution_count": 5,
   "id": "9cb1567e",
   "metadata": {},
   "outputs": [
    {
     "data": {
      "text/plain": [
       "0.9944575548290717"
      ]
     },
     "execution_count": 5,
     "metadata": {},
     "output_type": "execute_result"
    }
   ],
   "source": [
    "p_valor"
   ]
  }
 ],
 "metadata": {
  "kernelspec": {
   "display_name": "Python 3 (ipykernel)",
   "language": "python",
   "name": "python3"
  },
  "language_info": {
   "codemirror_mode": {
    "name": "ipython",
    "version": 3
   },
   "file_extension": ".py",
   "mimetype": "text/x-python",
   "name": "python",
   "nbconvert_exporter": "python",
   "pygments_lexer": "ipython3",
   "version": "3.8.16"
  }
 },
 "nbformat": 4,
 "nbformat_minor": 5
}

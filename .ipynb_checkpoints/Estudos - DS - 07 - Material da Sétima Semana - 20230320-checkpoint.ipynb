{
 "cells": [
  {
   "cell_type": "markdown",
   "id": "d6debebb",
   "metadata": {},
   "source": [
    "# Novos Desafios de Machine Learning"
   ]
  },
  {
   "cell_type": "markdown",
   "id": "03566cb7",
   "metadata": {},
   "source": [
    "## Carrega Bibliotecas"
   ]
  },
  {
   "cell_type": "code",
   "execution_count": 1,
   "id": "78400c32",
   "metadata": {},
   "outputs": [],
   "source": [
    "## importar as librarys\n",
    "\n",
    "import pandas as pd\n",
    "import numpy as np\n",
    "\n",
    "from sklearn.model_selection import train_test_split\n",
    "from sklearn.compose import ColumnTransformer\n",
    "import category_encoders as ce\n",
    "from sklearn.pipeline import Pipeline\n",
    "from sklearn.impute import SimpleImputer\n",
    "from sklearn.preprocessing import StandardScaler\n",
    "\n",
    "from sklearn.tree import DecisionTreeClassifier\n",
    "from sklearn.linear_model import LogisticRegression"
   ]
  },
  {
   "cell_type": "markdown",
   "id": "43870b2f",
   "metadata": {},
   "source": [
    "## Carrega Dataset"
   ]
  },
  {
   "cell_type": "code",
   "execution_count": 2,
   "id": "f3f6b180",
   "metadata": {},
   "outputs": [
    {
     "data": {
      "text/html": [
       "<div>\n",
       "<style scoped>\n",
       "    .dataframe tbody tr th:only-of-type {\n",
       "        vertical-align: middle;\n",
       "    }\n",
       "\n",
       "    .dataframe tbody tr th {\n",
       "        vertical-align: top;\n",
       "    }\n",
       "\n",
       "    .dataframe thead th {\n",
       "        text-align: right;\n",
       "    }\n",
       "</style>\n",
       "<table border=\"1\" class=\"dataframe\">\n",
       "  <thead>\n",
       "    <tr style=\"text-align: right;\">\n",
       "      <th></th>\n",
       "      <th>PassengerId</th>\n",
       "      <th>Survived</th>\n",
       "      <th>Pclass</th>\n",
       "      <th>Name</th>\n",
       "      <th>Sex</th>\n",
       "      <th>Age</th>\n",
       "      <th>SibSp</th>\n",
       "      <th>Parch</th>\n",
       "      <th>Ticket</th>\n",
       "      <th>Fare</th>\n",
       "      <th>Cabin</th>\n",
       "      <th>Embarked</th>\n",
       "    </tr>\n",
       "  </thead>\n",
       "  <tbody>\n",
       "    <tr>\n",
       "      <th>0</th>\n",
       "      <td>892</td>\n",
       "      <td>0</td>\n",
       "      <td>3</td>\n",
       "      <td>Kelly, Mr. James</td>\n",
       "      <td>male</td>\n",
       "      <td>34.5</td>\n",
       "      <td>0</td>\n",
       "      <td>0</td>\n",
       "      <td>330911</td>\n",
       "      <td>7.8292</td>\n",
       "      <td>NaN</td>\n",
       "      <td>Q</td>\n",
       "    </tr>\n",
       "    <tr>\n",
       "      <th>1</th>\n",
       "      <td>893</td>\n",
       "      <td>1</td>\n",
       "      <td>3</td>\n",
       "      <td>Wilkes, Mrs. James (Ellen Needs)</td>\n",
       "      <td>female</td>\n",
       "      <td>47.0</td>\n",
       "      <td>1</td>\n",
       "      <td>0</td>\n",
       "      <td>363272</td>\n",
       "      <td>7.0000</td>\n",
       "      <td>NaN</td>\n",
       "      <td>S</td>\n",
       "    </tr>\n",
       "    <tr>\n",
       "      <th>2</th>\n",
       "      <td>894</td>\n",
       "      <td>0</td>\n",
       "      <td>2</td>\n",
       "      <td>Myles, Mr. Thomas Francis</td>\n",
       "      <td>male</td>\n",
       "      <td>62.0</td>\n",
       "      <td>0</td>\n",
       "      <td>0</td>\n",
       "      <td>240276</td>\n",
       "      <td>9.6875</td>\n",
       "      <td>NaN</td>\n",
       "      <td>Q</td>\n",
       "    </tr>\n",
       "    <tr>\n",
       "      <th>3</th>\n",
       "      <td>895</td>\n",
       "      <td>0</td>\n",
       "      <td>3</td>\n",
       "      <td>Wirz, Mr. Albert</td>\n",
       "      <td>male</td>\n",
       "      <td>27.0</td>\n",
       "      <td>0</td>\n",
       "      <td>0</td>\n",
       "      <td>315154</td>\n",
       "      <td>8.6625</td>\n",
       "      <td>NaN</td>\n",
       "      <td>S</td>\n",
       "    </tr>\n",
       "    <tr>\n",
       "      <th>4</th>\n",
       "      <td>896</td>\n",
       "      <td>1</td>\n",
       "      <td>3</td>\n",
       "      <td>Hirvonen, Mrs. Alexander (Helga E Lindqvist)</td>\n",
       "      <td>female</td>\n",
       "      <td>22.0</td>\n",
       "      <td>1</td>\n",
       "      <td>1</td>\n",
       "      <td>3101298</td>\n",
       "      <td>12.2875</td>\n",
       "      <td>NaN</td>\n",
       "      <td>S</td>\n",
       "    </tr>\n",
       "  </tbody>\n",
       "</table>\n",
       "</div>"
      ],
      "text/plain": [
       "   PassengerId  Survived  Pclass  \\\n",
       "0          892         0       3   \n",
       "1          893         1       3   \n",
       "2          894         0       2   \n",
       "3          895         0       3   \n",
       "4          896         1       3   \n",
       "\n",
       "                                           Name     Sex   Age  SibSp  Parch  \\\n",
       "0                              Kelly, Mr. James    male  34.5      0      0   \n",
       "1              Wilkes, Mrs. James (Ellen Needs)  female  47.0      1      0   \n",
       "2                     Myles, Mr. Thomas Francis    male  62.0      0      0   \n",
       "3                              Wirz, Mr. Albert    male  27.0      0      0   \n",
       "4  Hirvonen, Mrs. Alexander (Helga E Lindqvist)  female  22.0      1      1   \n",
       "\n",
       "    Ticket     Fare Cabin Embarked  \n",
       "0   330911   7.8292   NaN        Q  \n",
       "1   363272   7.0000   NaN        S  \n",
       "2   240276   9.6875   NaN        Q  \n",
       "3   315154   8.6625   NaN        S  \n",
       "4  3101298  12.2875   NaN        S  "
      ]
     },
     "execution_count": 2,
     "metadata": {},
     "output_type": "execute_result"
    }
   ],
   "source": [
    "df = pd.read_csv('titanic.csv')\n",
    "\n",
    "df.head()"
   ]
  },
  {
   "cell_type": "code",
   "execution_count": 3,
   "id": "0fa09270",
   "metadata": {},
   "outputs": [
    {
     "name": "stdout",
     "output_type": "stream",
     "text": [
      "<class 'pandas.core.frame.DataFrame'>\n",
      "RangeIndex: 418 entries, 0 to 417\n",
      "Data columns (total 12 columns):\n",
      " #   Column       Non-Null Count  Dtype  \n",
      "---  ------       --------------  -----  \n",
      " 0   PassengerId  418 non-null    int64  \n",
      " 1   Survived     418 non-null    int64  \n",
      " 2   Pclass       418 non-null    int64  \n",
      " 3   Name         418 non-null    object \n",
      " 4   Sex          418 non-null    object \n",
      " 5   Age          332 non-null    float64\n",
      " 6   SibSp        418 non-null    int64  \n",
      " 7   Parch        418 non-null    int64  \n",
      " 8   Ticket       418 non-null    object \n",
      " 9   Fare         417 non-null    float64\n",
      " 10  Cabin        91 non-null     object \n",
      " 11  Embarked     418 non-null    object \n",
      "dtypes: float64(2), int64(5), object(5)\n",
      "memory usage: 39.3+ KB\n"
     ]
    }
   ],
   "source": [
    "df.info()"
   ]
  },
  {
   "cell_type": "code",
   "execution_count": 4,
   "id": "b1785329",
   "metadata": {},
   "outputs": [
    {
     "data": {
      "text/plain": [
       "Survived         2\n",
       "Sex              2\n",
       "Pclass           3\n",
       "Embarked         3\n",
       "SibSp            7\n",
       "Parch            8\n",
       "Cabin           76\n",
       "Age             79\n",
       "Fare           169\n",
       "Ticket         363\n",
       "PassengerId    418\n",
       "Name           418\n",
       "dtype: int64"
      ]
     },
     "execution_count": 4,
     "metadata": {},
     "output_type": "execute_result"
    }
   ],
   "source": [
    "df.nunique().sort_values()"
   ]
  },
  {
   "cell_type": "markdown",
   "id": "6a392162",
   "metadata": {},
   "source": [
    "Algumas variáveis não tem poder preditivo algum, são irrelevantes para a predição do modelo."
   ]
  },
  {
   "cell_type": "code",
   "execution_count": 5,
   "id": "9f96b14a",
   "metadata": {},
   "outputs": [],
   "source": [
    "df = df.drop(\n",
    "    columns=['Cabin',\n",
    "            'Ticket',\n",
    "            'PassengerId',\n",
    "            'Name'])"
   ]
  },
  {
   "cell_type": "code",
   "execution_count": 6,
   "id": "ac6401ba",
   "metadata": {},
   "outputs": [
    {
     "data": {
      "text/plain": [
       "Index(['Survived', 'Pclass', 'Sex', 'Age', 'SibSp', 'Parch', 'Fare',\n",
       "       'Embarked'],\n",
       "      dtype='object')"
      ]
     },
     "execution_count": 6,
     "metadata": {},
     "output_type": "execute_result"
    }
   ],
   "source": [
    "df.columns"
   ]
  },
  {
   "cell_type": "code",
   "execution_count": 7,
   "id": "7fdb0874",
   "metadata": {},
   "outputs": [
    {
     "data": {
      "text/html": [
       "<div>\n",
       "<style scoped>\n",
       "    .dataframe tbody tr th:only-of-type {\n",
       "        vertical-align: middle;\n",
       "    }\n",
       "\n",
       "    .dataframe tbody tr th {\n",
       "        vertical-align: top;\n",
       "    }\n",
       "\n",
       "    .dataframe thead th {\n",
       "        text-align: right;\n",
       "    }\n",
       "</style>\n",
       "<table border=\"1\" class=\"dataframe\">\n",
       "  <thead>\n",
       "    <tr style=\"text-align: right;\">\n",
       "      <th></th>\n",
       "      <th>Survived</th>\n",
       "      <th>Pclass</th>\n",
       "      <th>Sex</th>\n",
       "      <th>Age</th>\n",
       "      <th>SibSp</th>\n",
       "      <th>Parch</th>\n",
       "      <th>Fare</th>\n",
       "      <th>Embarked</th>\n",
       "    </tr>\n",
       "  </thead>\n",
       "  <tbody>\n",
       "    <tr>\n",
       "      <th>0</th>\n",
       "      <td>0</td>\n",
       "      <td>3</td>\n",
       "      <td>0</td>\n",
       "      <td>34.5</td>\n",
       "      <td>0</td>\n",
       "      <td>0</td>\n",
       "      <td>7.8292</td>\n",
       "      <td>Q</td>\n",
       "    </tr>\n",
       "    <tr>\n",
       "      <th>1</th>\n",
       "      <td>1</td>\n",
       "      <td>3</td>\n",
       "      <td>1</td>\n",
       "      <td>47.0</td>\n",
       "      <td>1</td>\n",
       "      <td>0</td>\n",
       "      <td>7.0000</td>\n",
       "      <td>S</td>\n",
       "    </tr>\n",
       "    <tr>\n",
       "      <th>2</th>\n",
       "      <td>0</td>\n",
       "      <td>2</td>\n",
       "      <td>0</td>\n",
       "      <td>62.0</td>\n",
       "      <td>0</td>\n",
       "      <td>0</td>\n",
       "      <td>9.6875</td>\n",
       "      <td>Q</td>\n",
       "    </tr>\n",
       "    <tr>\n",
       "      <th>3</th>\n",
       "      <td>0</td>\n",
       "      <td>3</td>\n",
       "      <td>0</td>\n",
       "      <td>27.0</td>\n",
       "      <td>0</td>\n",
       "      <td>0</td>\n",
       "      <td>8.6625</td>\n",
       "      <td>S</td>\n",
       "    </tr>\n",
       "    <tr>\n",
       "      <th>4</th>\n",
       "      <td>1</td>\n",
       "      <td>3</td>\n",
       "      <td>1</td>\n",
       "      <td>22.0</td>\n",
       "      <td>1</td>\n",
       "      <td>1</td>\n",
       "      <td>12.2875</td>\n",
       "      <td>S</td>\n",
       "    </tr>\n",
       "  </tbody>\n",
       "</table>\n",
       "</div>"
      ],
      "text/plain": [
       "   Survived  Pclass  Sex   Age  SibSp  Parch     Fare Embarked\n",
       "0         0       3    0  34.5      0      0   7.8292        Q\n",
       "1         1       3    1  47.0      1      0   7.0000        S\n",
       "2         0       2    0  62.0      0      0   9.6875        Q\n",
       "3         0       3    0  27.0      0      0   8.6625        S\n",
       "4         1       3    1  22.0      1      1  12.2875        S"
      ]
     },
     "execution_count": 7,
     "metadata": {},
     "output_type": "execute_result"
    }
   ],
   "source": [
    "## transformando uma coluna em dummy\n",
    "\n",
    "df.Sex = df.Sex.map({'male':0, 'female':1})\n",
    "\n",
    "df.head()"
   ]
  },
  {
   "cell_type": "code",
   "execution_count": 8,
   "id": "1166e82b",
   "metadata": {},
   "outputs": [
    {
     "data": {
      "text/plain": [
       "Survived    0.000000\n",
       "Pclass      0.000000\n",
       "Sex         0.000000\n",
       "Age         0.205742\n",
       "SibSp       0.000000\n",
       "Parch       0.000000\n",
       "Fare        0.002392\n",
       "Embarked    0.000000\n",
       "dtype: float64"
      ]
     },
     "execution_count": 8,
     "metadata": {},
     "output_type": "execute_result"
    }
   ],
   "source": [
    "df.isna().mean()"
   ]
  },
  {
   "cell_type": "code",
   "execution_count": 9,
   "id": "e2e38ca9",
   "metadata": {},
   "outputs": [
    {
     "data": {
      "text/plain": [
       "7.7500     0.050360\n",
       "26.0000    0.045564\n",
       "13.0000    0.040767\n",
       "8.0500     0.040767\n",
       "7.8958     0.026379\n",
       "             ...   \n",
       "7.8208     0.002398\n",
       "8.5167     0.002398\n",
       "78.8500    0.002398\n",
       "52.0000    0.002398\n",
       "22.3583    0.002398\n",
       "Name: Fare, Length: 169, dtype: float64"
      ]
     },
     "execution_count": 9,
     "metadata": {},
     "output_type": "execute_result"
    }
   ],
   "source": [
    "df.Fare.value_counts(1)"
   ]
  },
  {
   "cell_type": "markdown",
   "id": "4435bc99",
   "metadata": {},
   "source": [
    "## Modelo de Machine Learning"
   ]
  },
  {
   "cell_type": "code",
   "execution_count": 10,
   "id": "f2286bf0",
   "metadata": {},
   "outputs": [
    {
     "data": {
      "text/plain": [
       "Index(['Survived', 'Pclass', 'Sex', 'Age', 'SibSp', 'Parch', 'Fare',\n",
       "       'Embarked'],\n",
       "      dtype='object')"
      ]
     },
     "execution_count": 10,
     "metadata": {},
     "output_type": "execute_result"
    }
   ],
   "source": [
    "df.columns"
   ]
  },
  {
   "cell_type": "code",
   "execution_count": 11,
   "id": "962c4905",
   "metadata": {},
   "outputs": [],
   "source": [
    "features = ['Pclass', 'Sex', 'Age', 'SibSp', 'Parch', 'Fare', 'Embarked']\n",
    "\n",
    "target = ['Survived']"
   ]
  },
  {
   "cell_type": "code",
   "execution_count": 12,
   "id": "02c78c1b",
   "metadata": {},
   "outputs": [],
   "source": [
    "X = df[features]\n",
    "\n",
    "y = df[target]"
   ]
  },
  {
   "cell_type": "code",
   "execution_count": 13,
   "id": "a80ba79c",
   "metadata": {},
   "outputs": [],
   "source": [
    "X_train, X_test, y_train, y_test = train_test_split(X, y, test_size = 0.2, random_state=42)"
   ]
  },
  {
   "cell_type": "code",
   "execution_count": 14,
   "id": "1848e6db",
   "metadata": {},
   "outputs": [],
   "source": [
    "categorical = ['Pclass', 'SibSp', 'Parch', 'Embarked']\n",
    "\n",
    "numerical = ['Age', 'Sex', 'Fare']"
   ]
  },
  {
   "cell_type": "code",
   "execution_count": 15,
   "id": "723c63bf",
   "metadata": {},
   "outputs": [],
   "source": [
    "categorial_pipe = Pipeline([\n",
    "    ('imputer', SimpleImputer(strategy='most_frequent')),\n",
    "    ('encoder', ce.OneHotEncoder()),\n",
    "])\n",
    "\n",
    "numerical_pipe = Pipeline([\n",
    "    ('imputer', SimpleImputer(strategy='median')),\n",
    "    ('scaler', StandardScaler()),\n",
    "])\n",
    "\n",
    "transformer = ColumnTransformer([\n",
    "    ('categorical_transformer', categorial_pipe, categorical),\n",
    "    ('numerical_transformer', numerical_pipe, numerical)\n",
    "])\n",
    "\n",
    "X_train_transformed = transformer.fit_transform(X_train)\n",
    "X_test_transformed = transformer.transform(X_test)"
   ]
  },
  {
   "cell_type": "code",
   "execution_count": 16,
   "id": "13a712a5",
   "metadata": {},
   "outputs": [],
   "source": [
    "logit = LogisticRegression()"
   ]
  },
  {
   "cell_type": "code",
   "execution_count": 17,
   "id": "ece87c52",
   "metadata": {},
   "outputs": [
    {
     "name": "stderr",
     "output_type": "stream",
     "text": [
      "C:\\Users\\pasch\\anaconda3\\lib\\site-packages\\sklearn\\utils\\validation.py:1143: DataConversionWarning: A column-vector y was passed when a 1d array was expected. Please change the shape of y to (n_samples, ), for example using ravel().\n",
      "  y = column_or_1d(y, warn=True)\n"
     ]
    },
    {
     "data": {
      "text/html": [
       "<style>#sk-container-id-1 {color: black;background-color: white;}#sk-container-id-1 pre{padding: 0;}#sk-container-id-1 div.sk-toggleable {background-color: white;}#sk-container-id-1 label.sk-toggleable__label {cursor: pointer;display: block;width: 100%;margin-bottom: 0;padding: 0.3em;box-sizing: border-box;text-align: center;}#sk-container-id-1 label.sk-toggleable__label-arrow:before {content: \"▸\";float: left;margin-right: 0.25em;color: #696969;}#sk-container-id-1 label.sk-toggleable__label-arrow:hover:before {color: black;}#sk-container-id-1 div.sk-estimator:hover label.sk-toggleable__label-arrow:before {color: black;}#sk-container-id-1 div.sk-toggleable__content {max-height: 0;max-width: 0;overflow: hidden;text-align: left;background-color: #f0f8ff;}#sk-container-id-1 div.sk-toggleable__content pre {margin: 0.2em;color: black;border-radius: 0.25em;background-color: #f0f8ff;}#sk-container-id-1 input.sk-toggleable__control:checked~div.sk-toggleable__content {max-height: 200px;max-width: 100%;overflow: auto;}#sk-container-id-1 input.sk-toggleable__control:checked~label.sk-toggleable__label-arrow:before {content: \"▾\";}#sk-container-id-1 div.sk-estimator input.sk-toggleable__control:checked~label.sk-toggleable__label {background-color: #d4ebff;}#sk-container-id-1 div.sk-label input.sk-toggleable__control:checked~label.sk-toggleable__label {background-color: #d4ebff;}#sk-container-id-1 input.sk-hidden--visually {border: 0;clip: rect(1px 1px 1px 1px);clip: rect(1px, 1px, 1px, 1px);height: 1px;margin: -1px;overflow: hidden;padding: 0;position: absolute;width: 1px;}#sk-container-id-1 div.sk-estimator {font-family: monospace;background-color: #f0f8ff;border: 1px dotted black;border-radius: 0.25em;box-sizing: border-box;margin-bottom: 0.5em;}#sk-container-id-1 div.sk-estimator:hover {background-color: #d4ebff;}#sk-container-id-1 div.sk-parallel-item::after {content: \"\";width: 100%;border-bottom: 1px solid gray;flex-grow: 1;}#sk-container-id-1 div.sk-label:hover label.sk-toggleable__label {background-color: #d4ebff;}#sk-container-id-1 div.sk-serial::before {content: \"\";position: absolute;border-left: 1px solid gray;box-sizing: border-box;top: 0;bottom: 0;left: 50%;z-index: 0;}#sk-container-id-1 div.sk-serial {display: flex;flex-direction: column;align-items: center;background-color: white;padding-right: 0.2em;padding-left: 0.2em;position: relative;}#sk-container-id-1 div.sk-item {position: relative;z-index: 1;}#sk-container-id-1 div.sk-parallel {display: flex;align-items: stretch;justify-content: center;background-color: white;position: relative;}#sk-container-id-1 div.sk-item::before, #sk-container-id-1 div.sk-parallel-item::before {content: \"\";position: absolute;border-left: 1px solid gray;box-sizing: border-box;top: 0;bottom: 0;left: 50%;z-index: -1;}#sk-container-id-1 div.sk-parallel-item {display: flex;flex-direction: column;z-index: 1;position: relative;background-color: white;}#sk-container-id-1 div.sk-parallel-item:first-child::after {align-self: flex-end;width: 50%;}#sk-container-id-1 div.sk-parallel-item:last-child::after {align-self: flex-start;width: 50%;}#sk-container-id-1 div.sk-parallel-item:only-child::after {width: 0;}#sk-container-id-1 div.sk-dashed-wrapped {border: 1px dashed gray;margin: 0 0.4em 0.5em 0.4em;box-sizing: border-box;padding-bottom: 0.4em;background-color: white;}#sk-container-id-1 div.sk-label label {font-family: monospace;font-weight: bold;display: inline-block;line-height: 1.2em;}#sk-container-id-1 div.sk-label-container {text-align: center;}#sk-container-id-1 div.sk-container {/* jupyter's `normalize.less` sets `[hidden] { display: none; }` but bootstrap.min.css set `[hidden] { display: none !important; }` so we also need the `!important` here to be able to override the default hidden behavior on the sphinx rendered scikit-learn.org. See: https://github.com/scikit-learn/scikit-learn/issues/21755 */display: inline-block !important;position: relative;}#sk-container-id-1 div.sk-text-repr-fallback {display: none;}</style><div id=\"sk-container-id-1\" class=\"sk-top-container\"><div class=\"sk-text-repr-fallback\"><pre>LogisticRegression()</pre><b>In a Jupyter environment, please rerun this cell to show the HTML representation or trust the notebook. <br />On GitHub, the HTML representation is unable to render, please try loading this page with nbviewer.org.</b></div><div class=\"sk-container\" hidden><div class=\"sk-item\"><div class=\"sk-estimator sk-toggleable\"><input class=\"sk-toggleable__control sk-hidden--visually\" id=\"sk-estimator-id-1\" type=\"checkbox\" checked><label for=\"sk-estimator-id-1\" class=\"sk-toggleable__label sk-toggleable__label-arrow\">LogisticRegression</label><div class=\"sk-toggleable__content\"><pre>LogisticRegression()</pre></div></div></div></div></div>"
      ],
      "text/plain": [
       "LogisticRegression()"
      ]
     },
     "execution_count": 17,
     "metadata": {},
     "output_type": "execute_result"
    }
   ],
   "source": [
    "logit.fit(X_train_transformed, y_train)"
   ]
  },
  {
   "cell_type": "code",
   "execution_count": 18,
   "id": "4f7a1151",
   "metadata": {},
   "outputs": [],
   "source": [
    "y_pred = logit.predict(X_test_transformed)"
   ]
  },
  {
   "cell_type": "code",
   "execution_count": 19,
   "id": "aca30fd2",
   "metadata": {},
   "outputs": [
    {
     "data": {
      "text/plain": [
       "array([0, 1, 0, 0, 1, 0, 1, 0, 1, 0, 0, 1, 1, 1, 0, 0, 1, 0, 0, 0, 0, 0,\n",
       "       1, 0, 1, 1, 1, 0, 0, 0, 0, 1, 1, 0, 1, 0, 1, 0, 1, 0, 1, 1, 0, 0,\n",
       "       0, 0, 1, 1, 1, 0, 0, 1, 1, 0, 0, 1, 0, 0, 1, 0, 0, 0, 1, 0, 1, 0,\n",
       "       0, 0, 0, 0, 0, 0, 0, 1, 0, 1, 0, 1, 1, 0, 0, 1, 0, 1], dtype=int64)"
      ]
     },
     "execution_count": 19,
     "metadata": {},
     "output_type": "execute_result"
    }
   ],
   "source": [
    "y_pred"
   ]
  },
  {
   "cell_type": "code",
   "execution_count": 20,
   "id": "874fbad9",
   "metadata": {},
   "outputs": [
    {
     "data": {
      "text/plain": [
       "array([[0],\n",
       "       [1],\n",
       "       [0],\n",
       "       [0],\n",
       "       [1],\n",
       "       [0],\n",
       "       [1],\n",
       "       [0],\n",
       "       [1],\n",
       "       [0],\n",
       "       [0],\n",
       "       [1],\n",
       "       [1],\n",
       "       [1],\n",
       "       [0],\n",
       "       [0],\n",
       "       [1],\n",
       "       [0],\n",
       "       [0],\n",
       "       [0],\n",
       "       [0],\n",
       "       [0],\n",
       "       [1],\n",
       "       [0],\n",
       "       [1],\n",
       "       [1],\n",
       "       [1],\n",
       "       [0],\n",
       "       [0],\n",
       "       [0],\n",
       "       [0],\n",
       "       [1],\n",
       "       [1],\n",
       "       [0],\n",
       "       [1],\n",
       "       [0],\n",
       "       [1],\n",
       "       [0],\n",
       "       [1],\n",
       "       [0],\n",
       "       [1],\n",
       "       [1],\n",
       "       [0],\n",
       "       [0],\n",
       "       [0],\n",
       "       [0],\n",
       "       [1],\n",
       "       [1],\n",
       "       [1],\n",
       "       [0],\n",
       "       [0],\n",
       "       [1],\n",
       "       [1],\n",
       "       [0],\n",
       "       [0],\n",
       "       [1],\n",
       "       [0],\n",
       "       [0],\n",
       "       [1],\n",
       "       [0],\n",
       "       [0],\n",
       "       [0],\n",
       "       [1],\n",
       "       [0],\n",
       "       [1],\n",
       "       [0],\n",
       "       [0],\n",
       "       [0],\n",
       "       [0],\n",
       "       [0],\n",
       "       [0],\n",
       "       [0],\n",
       "       [0],\n",
       "       [1],\n",
       "       [0],\n",
       "       [1],\n",
       "       [0],\n",
       "       [1],\n",
       "       [1],\n",
       "       [0],\n",
       "       [0],\n",
       "       [1],\n",
       "       [0],\n",
       "       [1]], dtype=int64)"
      ]
     },
     "execution_count": 20,
     "metadata": {},
     "output_type": "execute_result"
    }
   ],
   "source": [
    "y_test.values"
   ]
  },
  {
   "cell_type": "code",
   "execution_count": 21,
   "id": "7999a697",
   "metadata": {},
   "outputs": [
    {
     "name": "stdout",
     "output_type": "stream",
     "text": [
      "Acurácia: 1.00\n",
      "ROC/AUC: 1.00\n",
      "F1-Score: 1.00\n",
      "Precision: 1.00\n",
      "Recall: 1.00\n"
     ]
    }
   ],
   "source": [
    "from sklearn.metrics import(\n",
    "    accuracy_score, \n",
    "    roc_auc_score, \n",
    "    f1_score, \n",
    "    precision_score,\n",
    "    recall_score)\n",
    "\n",
    "print(f'Acurácia: {accuracy_score(y_test, y_pred):.2f}')\n",
    "print(f'ROC/AUC: {roc_auc_score(y_test, y_pred):.2f}')\n",
    "print(f'F1-Score: {f1_score(y_test, y_pred):.2f}')\n",
    "print(f'Precision: {precision_score(y_test, y_pred):.2f}')\n",
    "print(f'Recall: {recall_score(y_test, y_pred):.2f}')"
   ]
  },
  {
   "cell_type": "markdown",
   "id": "84b74689",
   "metadata": {},
   "source": [
    "Vamos lembrar de duas métricas:\n",
    "\n",
    "Precision = TP/(TP+FP)\n",
    "\n",
    "Recall = TP/(TP+FN)"
   ]
  },
  {
   "cell_type": "markdown",
   "id": "e51aa92d",
   "metadata": {},
   "source": [
    "## Checando a Probabilidade de Morte"
   ]
  },
  {
   "cell_type": "code",
   "execution_count": 22,
   "id": "4e1f8642",
   "metadata": {},
   "outputs": [
    {
     "data": {
      "text/plain": [
       "array([[0.99206828, 0.00793172],\n",
       "       [0.99128039, 0.00871961],\n",
       "       [0.98974392, 0.01025608],\n",
       "       [0.98884651, 0.01115349],\n",
       "       [0.99212376, 0.00787624],\n",
       "       [0.99252311, 0.00747689],\n",
       "       [0.99089711, 0.00910289],\n",
       "       [0.99020122, 0.00979878],\n",
       "       [0.98978016, 0.01021984],\n",
       "       [0.99250117, 0.00749883],\n",
       "       [0.99251113, 0.00748887],\n",
       "       [0.01554307, 0.98445693],\n",
       "       [0.99198835, 0.00801165],\n",
       "       [0.99098214, 0.00901786],\n",
       "       [0.99026274, 0.00973726],\n",
       "       [0.98969737, 0.01030263],\n",
       "       [0.9925145 , 0.0074855 ],\n",
       "       [0.99026274, 0.00973726],\n",
       "       [0.99252702, 0.00747298],\n",
       "       [0.9924974 , 0.0075026 ],\n",
       "       [0.01968129, 0.98031871],\n",
       "       [0.01849415, 0.98150585],\n",
       "       [0.99251942, 0.00748058],\n",
       "       [0.99211964, 0.00788036],\n",
       "       [0.99211117, 0.00788883],\n",
       "       [0.01740079, 0.98259921],\n",
       "       [0.99250963, 0.00749037],\n",
       "       [0.98966237, 0.01033763],\n",
       "       [0.98940033, 0.01059967],\n",
       "       [0.99183085, 0.00816915],\n",
       "       [0.98582796, 0.01417204],\n",
       "       [0.99212438, 0.00787562],\n",
       "       [0.01416068, 0.98583932],\n",
       "       [0.98853784, 0.01146216],\n",
       "       [0.0146149 , 0.9853851 ],\n",
       "       [0.02097295, 0.97902705],\n",
       "       [0.9924966 , 0.0075034 ],\n",
       "       [0.99065331, 0.00934669],\n",
       "       [0.99250622, 0.00749378],\n",
       "       [0.99139279, 0.00860721],\n",
       "       [0.99250442, 0.00749558],\n",
       "       [0.99004015, 0.00995985],\n",
       "       [0.98987889, 0.01012111],\n",
       "       [0.99026274, 0.00973726],\n",
       "       [0.01125107, 0.98874893],\n",
       "       [0.99211633, 0.00788367],\n",
       "       [0.9908151 , 0.0091849 ],\n",
       "       [0.02255086, 0.97744914],\n",
       "       [0.99237098, 0.00762902],\n",
       "       [0.01477574, 0.98522426],\n",
       "       [0.990258  , 0.009742  ],\n",
       "       [0.01283743, 0.98716257],\n",
       "       [0.01461176, 0.98538824],\n",
       "       [0.99026274, 0.00973726],\n",
       "       [0.99208227, 0.00791773],\n",
       "       [0.02029571, 0.97970429],\n",
       "       [0.990811  , 0.009189  ],\n",
       "       [0.9811212 , 0.0188788 ],\n",
       "       [0.02251268, 0.97748732],\n",
       "       [0.99250963, 0.00749037],\n",
       "       [0.9921111 , 0.0078889 ],\n",
       "       [0.02094861, 0.97905139],\n",
       "       [0.01254816, 0.98745184],\n",
       "       [0.01850321, 0.98149679],\n",
       "       [0.01810442, 0.98189558],\n",
       "       [0.99247516, 0.00752484],\n",
       "       [0.98562275, 0.01437725],\n",
       "       [0.01738862, 0.98261138],\n",
       "       [0.01187069, 0.98812931],\n",
       "       [0.01748585, 0.98251415],\n",
       "       [0.9888455 , 0.0111545 ],\n",
       "       [0.99134954, 0.00865046],\n",
       "       [0.02252999, 0.97747001],\n",
       "       [0.98940368, 0.01059632],\n",
       "       [0.99087061, 0.00912939],\n",
       "       [0.99130187, 0.00869813],\n",
       "       [0.99250717, 0.00749283],\n",
       "       [0.01761746, 0.98238254],\n",
       "       [0.0112642 , 0.9887358 ],\n",
       "       [0.01738755, 0.98261245],\n",
       "       [0.01491404, 0.98508596],\n",
       "       [0.98977512, 0.01022488],\n",
       "       [0.01738629, 0.98261371],\n",
       "       [0.98890635, 0.01109365],\n",
       "       [0.99250717, 0.00749283],\n",
       "       [0.99133936, 0.00866064],\n",
       "       [0.0135386 , 0.9864614 ],\n",
       "       [0.99250963, 0.00749037],\n",
       "       [0.99211839, 0.00788161],\n",
       "       [0.99251254, 0.00748746],\n",
       "       [0.98493059, 0.01506941],\n",
       "       [0.99206413, 0.00793587],\n",
       "       [0.01685438, 0.98314562],\n",
       "       [0.98961063, 0.01038937],\n",
       "       [0.99047588, 0.00952412],\n",
       "       [0.01958192, 0.98041808],\n",
       "       [0.01530937, 0.98469063],\n",
       "       [0.99207968, 0.00792032],\n",
       "       [0.0083263 , 0.9916737 ],\n",
       "       [0.98871807, 0.01128193],\n",
       "       [0.99212479, 0.00787521],\n",
       "       [0.9925239 , 0.0074761 ],\n",
       "       [0.99015191, 0.00984809],\n",
       "       [0.99251207, 0.00748793],\n",
       "       [0.99251514, 0.00748486],\n",
       "       [0.01306442, 0.98693558],\n",
       "       [0.00876532, 0.99123468],\n",
       "       [0.01738862, 0.98261138],\n",
       "       [0.99251894, 0.00748106],\n",
       "       [0.01519995, 0.98480005],\n",
       "       [0.99185012, 0.00814988],\n",
       "       [0.01125099, 0.98874901],\n",
       "       [0.99250721, 0.00749279],\n",
       "       [0.99251645, 0.00748355],\n",
       "       [0.99084071, 0.00915929],\n",
       "       [0.98804765, 0.01195235],\n",
       "       [0.02251848, 0.97748152],\n",
       "       [0.99133936, 0.00866064],\n",
       "       [0.01515491, 0.98484509],\n",
       "       [0.9925171 , 0.0074829 ],\n",
       "       [0.98396074, 0.01603926],\n",
       "       [0.0161703 , 0.9838297 ],\n",
       "       [0.99103672, 0.00896328],\n",
       "       [0.99251159, 0.00748841],\n",
       "       [0.99248976, 0.00751024],\n",
       "       [0.01365006, 0.98634994],\n",
       "       [0.9889836 , 0.0110164 ],\n",
       "       [0.01510582, 0.98489418],\n",
       "       [0.00896207, 0.99103793],\n",
       "       [0.01823639, 0.98176361],\n",
       "       [0.99087849, 0.00912151],\n",
       "       [0.9920745 , 0.0079255 ],\n",
       "       [0.01738388, 0.98261612],\n",
       "       [0.99099573, 0.00900427],\n",
       "       [0.99238045, 0.00761955],\n",
       "       [0.98737275, 0.01262725],\n",
       "       [0.98842838, 0.01157162],\n",
       "       [0.01419563, 0.98580437],\n",
       "       [0.9925103 , 0.0074897 ],\n",
       "       [0.99026274, 0.00973726],\n",
       "       [0.99250834, 0.00749166],\n",
       "       [0.99099748, 0.00900252],\n",
       "       [0.98848697, 0.01151303],\n",
       "       [0.99139279, 0.00860721],\n",
       "       [0.99251011, 0.00748989],\n",
       "       [0.99248598, 0.00751402],\n",
       "       [0.99134496, 0.00865504],\n",
       "       [0.01581069, 0.98418931],\n",
       "       [0.99200914, 0.00799086],\n",
       "       [0.01841718, 0.98158282],\n",
       "       [0.01834254, 0.98165746],\n",
       "       [0.01323291, 0.98676709],\n",
       "       [0.013462  , 0.986538  ],\n",
       "       [0.01396331, 0.98603669],\n",
       "       [0.01514129, 0.98485871],\n",
       "       [0.99211117, 0.00788883],\n",
       "       [0.0159304 , 0.9840696 ],\n",
       "       [0.01593655, 0.98406345],\n",
       "       [0.01741119, 0.98258881],\n",
       "       [0.01423811, 0.98576189],\n",
       "       [0.99015064, 0.00984936],\n",
       "       [0.99026006, 0.00973994],\n",
       "       [0.98965622, 0.01034378],\n",
       "       [0.01407732, 0.98592268],\n",
       "       [0.99205895, 0.00794105],\n",
       "       [0.02094861, 0.97905139],\n",
       "       [0.99211169, 0.00788831],\n",
       "       [0.98964542, 0.01035458],\n",
       "       [0.02252704, 0.97747296],\n",
       "       [0.02256914, 0.97743086],\n",
       "       [0.01738862, 0.98261138],\n",
       "       [0.98971929, 0.01028071],\n",
       "       [0.99143997, 0.00856003],\n",
       "       [0.99082187, 0.00917813],\n",
       "       [0.02123277, 0.97876723],\n",
       "       [0.01846609, 0.98153391],\n",
       "       [0.99175744, 0.00824256],\n",
       "       [0.98943144, 0.01056856],\n",
       "       [0.01591394, 0.98408606],\n",
       "       [0.9920745 , 0.0079255 ],\n",
       "       [0.99026274, 0.00973726],\n",
       "       [0.99251475, 0.00748525],\n",
       "       [0.99096631, 0.00903369],\n",
       "       [0.99205583, 0.00794417],\n",
       "       [0.01613236, 0.98386764],\n",
       "       [0.99207558, 0.00792442],\n",
       "       [0.02095943, 0.97904057],\n",
       "       [0.99081108, 0.00918892],\n",
       "       [0.98395936, 0.01604064],\n",
       "       [0.01724126, 0.98275874],\n",
       "       [0.0179884 , 0.9820116 ],\n",
       "       [0.01519481, 0.98480519],\n",
       "       [0.99211986, 0.00788014],\n",
       "       [0.99126746, 0.00873254],\n",
       "       [0.99251514, 0.00748486],\n",
       "       [0.98025946, 0.01974054],\n",
       "       [0.99250963, 0.00749037],\n",
       "       [0.99251992, 0.00748008],\n",
       "       [0.99251305, 0.00748695],\n",
       "       [0.99251319, 0.00748681],\n",
       "       [0.99160385, 0.00839615],\n",
       "       [0.01845063, 0.98154937],\n",
       "       [0.01469453, 0.98530547],\n",
       "       [0.99251254, 0.00748746],\n",
       "       [0.01766077, 0.98233923],\n",
       "       [0.99135632, 0.00864368],\n",
       "       [0.01571417, 0.98428583],\n",
       "       [0.01737061, 0.98262939],\n",
       "       [0.01738862, 0.98261138],\n",
       "       [0.9924786 , 0.0075214 ],\n",
       "       [0.02138435, 0.97861565],\n",
       "       [0.01603572, 0.98396428],\n",
       "       [0.99026274, 0.00973726],\n",
       "       [0.01243701, 0.98756299],\n",
       "       [0.01521317, 0.98478683],\n",
       "       [0.99251514, 0.00748486],\n",
       "       [0.9925099 , 0.0074901 ],\n",
       "       [0.01803194, 0.98196806],\n",
       "       [0.99211117, 0.00788883],\n",
       "       [0.02255958, 0.97744042],\n",
       "       [0.9921111 , 0.0078889 ],\n",
       "       [0.99104067, 0.00895933],\n",
       "       [0.99205984, 0.00794016],\n",
       "       [0.99026274, 0.00973726],\n",
       "       [0.01546272, 0.98453728],\n",
       "       [0.99251514, 0.00748486],\n",
       "       [0.01710688, 0.98289312],\n",
       "       [0.99163239, 0.00836761],\n",
       "       [0.99211581, 0.00788419],\n",
       "       [0.99094401, 0.00905599],\n",
       "       [0.99116158, 0.00883842],\n",
       "       [0.99122144, 0.00877856],\n",
       "       [0.9921111 , 0.0078889 ],\n",
       "       [0.0212948 , 0.9787052 ],\n",
       "       [0.99134044, 0.00865956],\n",
       "       [0.02254161, 0.97745839],\n",
       "       [0.99252077, 0.00747923],\n",
       "       [0.99251323, 0.00748677],\n",
       "       [0.99205791, 0.00794209],\n",
       "       [0.02143958, 0.97856042],\n",
       "       [0.98035623, 0.01964377],\n",
       "       [0.99250666, 0.00749334],\n",
       "       [0.0158374 , 0.9841626 ],\n",
       "       [0.01295622, 0.98704378],\n",
       "       [0.99024007, 0.00975993],\n",
       "       [0.01936585, 0.98063415],\n",
       "       [0.98868963, 0.01131037],\n",
       "       [0.01738388, 0.98261612],\n",
       "       [0.99212067, 0.00787933],\n",
       "       [0.01379164, 0.98620836],\n",
       "       [0.98835188, 0.01164812],\n",
       "       [0.99211861, 0.00788139],\n",
       "       [0.99099691, 0.00900309],\n",
       "       [0.99251061, 0.00748939],\n",
       "       [0.99026134, 0.00973866],\n",
       "       [0.99251602, 0.00748398],\n",
       "       [0.01738969, 0.98261031],\n",
       "       [0.02222735, 0.97777265],\n",
       "       [0.99250034, 0.00749966],\n",
       "       [0.9925072 , 0.0074928 ],\n",
       "       [0.99060906, 0.00939094],\n",
       "       [0.9888113 , 0.0111887 ],\n",
       "       [0.02130617, 0.97869383],\n",
       "       [0.98375225, 0.01624775],\n",
       "       [0.99064477, 0.00935523],\n",
       "       [0.01938191, 0.98061809],\n",
       "       [0.99251743, 0.00748257],\n",
       "       [0.99227173, 0.00772827],\n",
       "       [0.00915163, 0.99084837],\n",
       "       [0.01966872, 0.98033128],\n",
       "       [0.01788491, 0.98211509],\n",
       "       [0.98881276, 0.01118724],\n",
       "       [0.99089973, 0.00910027],\n",
       "       [0.98882576, 0.01117424],\n",
       "       [0.01608298, 0.98391702],\n",
       "       [0.99251156, 0.00748844],\n",
       "       [0.9921111 , 0.0078889 ],\n",
       "       [0.016237  , 0.983763  ],\n",
       "       [0.02258087, 0.97741913],\n",
       "       [0.99164147, 0.00835853],\n",
       "       [0.016573  , 0.983427  ],\n",
       "       [0.99060928, 0.00939072],\n",
       "       [0.01741176, 0.98258824],\n",
       "       [0.01738862, 0.98261138],\n",
       "       [0.01492946, 0.98507054],\n",
       "       [0.99038196, 0.00961804],\n",
       "       [0.99065087, 0.00934913],\n",
       "       [0.01148863, 0.98851137],\n",
       "       [0.99249394, 0.00750606],\n",
       "       [0.98398041, 0.01601959],\n",
       "       [0.99073879, 0.00926121],\n",
       "       [0.99128267, 0.00871733],\n",
       "       [0.99250976, 0.00749024],\n",
       "       [0.9915941 , 0.0084059 ],\n",
       "       [0.9924974 , 0.0075026 ],\n",
       "       [0.9893611 , 0.0106389 ],\n",
       "       [0.98974341, 0.01025659],\n",
       "       [0.99205998, 0.00794002],\n",
       "       [0.99250866, 0.00749134],\n",
       "       [0.99208249, 0.00791751],\n",
       "       [0.02250142, 0.97749858],\n",
       "       [0.99125653, 0.00874347],\n",
       "       [0.01664494, 0.98335506],\n",
       "       [0.98937888, 0.01062112],\n",
       "       [0.99251715, 0.00748285],\n",
       "       [0.98679422, 0.01320578],\n",
       "       [0.99098009, 0.00901991],\n",
       "       [0.01736611, 0.98263389],\n",
       "       [0.01738923, 0.98261077],\n",
       "       [0.99211449, 0.00788551],\n",
       "       [0.99136642, 0.00863358],\n",
       "       [0.01346741, 0.98653259],\n",
       "       [0.98637293, 0.01362707],\n",
       "       [0.00541236, 0.99458764],\n",
       "       [0.99250619, 0.00749381],\n",
       "       [0.98602959, 0.01397041],\n",
       "       [0.98860458, 0.01139542],\n",
       "       [0.99250227, 0.00749773],\n",
       "       [0.9920999 , 0.0079001 ],\n",
       "       [0.01936072, 0.98063928],\n",
       "       [0.99250129, 0.00749871],\n",
       "       [0.99180733, 0.00819267],\n",
       "       [0.02255613, 0.97744387],\n",
       "       [0.01633235, 0.98366765],\n",
       "       [0.01713846, 0.98286154],\n",
       "       [0.988834  , 0.011166  ],\n",
       "       [0.98861163, 0.01138837],\n",
       "       [0.98875   , 0.01125   ],\n",
       "       [0.01495864, 0.98504136],\n",
       "       [0.99251551, 0.00748449],\n",
       "       [0.9902689 , 0.0097311 ],\n",
       "       [0.98986568, 0.01013432],\n",
       "       [0.99206814, 0.00793186],\n",
       "       [0.99026274, 0.00973726]])"
      ]
     },
     "execution_count": 22,
     "metadata": {},
     "output_type": "execute_result"
    }
   ],
   "source": [
    "## pegando os percentuais\n",
    "\n",
    "logit.predict_proba(X_train_transformed)"
   ]
  },
  {
   "cell_type": "markdown",
   "id": "ad6fc4ce",
   "metadata": {},
   "source": [
    "Por definição, o Scikit-Learn considera que 50% a chance de morrer o valor mínimo, como nós queremos evitar morte a todo custo, então podemos alterar essa probabilidade padrão para quem sabe 30%."
   ]
  },
  {
   "cell_type": "code",
   "execution_count": 25,
   "id": "ab88ee7b",
   "metadata": {},
   "outputs": [
    {
     "data": {
      "text/plain": [
       "array([False,  True, False, False,  True, False,  True, False,  True,\n",
       "       False, False,  True,  True,  True, False, False,  True, False,\n",
       "       False, False, False, False,  True, False,  True,  True,  True,\n",
       "       False, False, False, False,  True,  True, False,  True, False,\n",
       "        True, False,  True, False,  True,  True, False, False, False,\n",
       "       False,  True,  True,  True, False, False,  True,  True, False,\n",
       "       False,  True, False, False,  True, False, False, False,  True,\n",
       "       False,  True, False, False, False, False, False, False, False,\n",
       "       False,  True, False,  True, False,  True,  True, False, False,\n",
       "        True, False,  True])"
      ]
     },
     "execution_count": 25,
     "metadata": {},
     "output_type": "execute_result"
    }
   ],
   "source": [
    "y_pred = (logit.predict_proba(X_test_transformed)[:, 1] >= 0.3).astype('bool')\n",
    "\n",
    "y_pred"
   ]
  },
  {
   "cell_type": "code",
   "execution_count": 26,
   "id": "a62c9beb",
   "metadata": {},
   "outputs": [
    {
     "name": "stdout",
     "output_type": "stream",
     "text": [
      "Acurácia: 1.00\n",
      "ROC/AUC: 1.00\n",
      "F1-Score: 1.00\n",
      "Precision: 1.00\n",
      "Recall: 1.00\n"
     ]
    }
   ],
   "source": [
    "from sklearn.metrics import(\n",
    "    accuracy_score, \n",
    "    roc_auc_score, \n",
    "    f1_score, \n",
    "    precision_score,\n",
    "    recall_score)\n",
    "\n",
    "print(f'Acurácia: {accuracy_score(y_test, y_pred):.2f}')\n",
    "print(f'ROC/AUC: {roc_auc_score(y_test, y_pred):.2f}')\n",
    "print(f'F1-Score: {f1_score(y_test, y_pred):.2f}')\n",
    "print(f'Precision: {precision_score(y_test, y_pred):.2f}')\n",
    "print(f'Recall: {recall_score(y_test, y_pred):.2f}')"
   ]
  },
  {
   "cell_type": "code",
   "execution_count": null,
   "id": "46a88a78",
   "metadata": {},
   "outputs": [],
   "source": []
  }
 ],
 "metadata": {
  "kernelspec": {
   "display_name": "Python 3 (ipykernel)",
   "language": "python",
   "name": "python3"
  },
  "language_info": {
   "codemirror_mode": {
    "name": "ipython",
    "version": 3
   },
   "file_extension": ".py",
   "mimetype": "text/x-python",
   "name": "python",
   "nbconvert_exporter": "python",
   "pygments_lexer": "ipython3",
   "version": "3.8.16"
  }
 },
 "nbformat": 4,
 "nbformat_minor": 5
}
